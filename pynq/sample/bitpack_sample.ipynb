{
 "cells": [
  {
   "cell_type": "code",
   "execution_count": null,
   "metadata": {},
   "outputs": [],
   "source": [
    "from pynq import Overlay\n",
    "import bitpack_lib\n",
    "\n",
    "pl = Overlay(\"bitpack_sample.bit\")\n",
    "core = pl.bitpack_top_0\n",
    "core._A.values = [0.9, 0.8, 0.7, 0.6]\n",
    "core._SEL.values = [0.5, 0.5]\n",
    "core.cycle = 10000\n",
    "\n",
    "prods = []\n",
    "avgs = []\n",
    "result = [['product', prods], ['average', avgs]]\n",
    "for i in range(5):\n",
    "    core.resetseeds()\n",
    "    core.start()\n",
    "    prods.append(core._PROD.value)\n",
    "    avgs.append(core._AVG.value)\n",
    "result"
   ]
  },
  {
   "cell_type": "code",
   "execution_count": null,
   "metadata": {},
   "outputs": [],
   "source": []
  }
 ],
 "metadata": {
  "kernelspec": {
   "display_name": "Python 3",
   "language": "python",
   "name": "python3"
  },
  "language_info": {
   "codemirror_mode": {
    "name": "ipython",
    "version": 3
   },
   "file_extension": ".py",
   "mimetype": "text/x-python",
   "name": "python",
   "nbconvert_exporter": "python",
   "pygments_lexer": "ipython3",
   "version": "3.6.5"
  }
 },
 "nbformat": 4,
 "nbformat_minor": 2
}
